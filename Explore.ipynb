{
 "cells": [
  {
   "cell_type": "code",
   "execution_count": 6,
   "metadata": {
    "ExecuteTime": {
     "end_time": "2023-05-02T10:35:04.240652200Z",
     "start_time": "2023-05-02T10:35:04.231780200Z"
    },
    "collapsed": true
   },
   "outputs": [],
   "source": [
    "import urllib.parse\n",
    "\n",
    "import requests\n",
    "from lxml import etree"
   ]
  },
  {
   "cell_type": "code",
   "execution_count": 7,
   "metadata": {
    "ExecuteTime": {
     "end_time": "2023-05-02T10:35:05.138301500Z",
     "start_time": "2023-05-02T10:35:04.235787600Z"
    },
    "collapsed": false
   },
   "outputs": [],
   "source": [
    "baseurl = \"https://m.xbiquge.tw/modules/article/search.php\"\n",
    "# url = \"https://m.xbiquge.tw/modules/article/search.php?searchtype=articlename&searchkey=%B7%B2%C8%CB&t_btnsearch=\"\n",
    "url = baseurl + '?' + \"searchtype=articlename&\" + \"searchkey={}&\".format(\n",
    "    urllib.parse.quote(\"凡人\", encoding='gbk')) + \"t_btnsearch=\"\n",
    "resp = requests.get(url)\n",
    "tree = etree.HTML(resp.content.decode(encoding=\"gbk\"))\n"
   ]
  },
  {
   "cell_type": "code",
   "execution_count": 8,
   "metadata": {
    "ExecuteTime": {
     "end_time": "2023-05-02T10:40:51.891846200Z",
     "start_time": "2023-05-02T10:40:51.891329900Z"
    },
    "collapsed": false
   },
   "outputs": [
    {
     "name": "stdout",
     "output_type": "stream",
     "text": [
      "['掌门师叔不可能是凡人', '不会真有人觉得师尊是凡人吧', '不朽凡人', '凡人修仙之仙界篇', '这个凡人有点强', '重生之凡人修真', '凡人仙游传', '不死凡人', '非凡人生', '凡人修真传', '重生之陈泽的平凡人生', '一个天才的平凡人生', '凡人修仙传', '凡人仙府传']\n",
      "['https://m.xbiquge.tw/book/55681/', 'https://m.xbiquge.tw/book/17926/', 'https://m.xbiquge.tw/book/110/', 'https://m.xbiquge.tw/book/26182/', 'https://m.xbiquge.tw/book/49695/', 'https://m.xbiquge.tw/book/43669/', 'https://m.xbiquge.tw/book/4873/', 'https://m.xbiquge.tw/book/14252/', 'https://m.xbiquge.tw/book/22721/', 'https://m.xbiquge.tw/book/16682/', 'https://m.xbiquge.tw/book/1694/', 'https://m.xbiquge.tw/book/7717/', 'https://m.xbiquge.tw/book/6729/', 'https://m.xbiquge.tw/book/2533/']\n"
     ]
    }
   ],
   "source": [
    "titles = tree.xpath(\n",
    "    '//table[@class=\"list-item\"]/tr/td[2]/div[@class=\"article\"]/a[1]/text()')\n",
    "urls = tree.xpath(\n",
    "    '//table[@class=\"list-item\"]/tr/td[2]/div[@class=\"article\"]/a[1]/@href')\n",
    "\n",
    "print(titles)\n",
    "print(urls)\n"
   ]
  },
  {
   "cell_type": "code",
   "execution_count": null,
   "metadata": {
    "collapsed": false
   },
   "outputs": [],
   "source": []
  }
 ],
 "metadata": {
  "kernelspec": {
   "display_name": "Python 3",
   "language": "python",
   "name": "python3"
  },
  "language_info": {
   "codemirror_mode": {
    "name": "ipython",
    "version": 3
   },
   "file_extension": ".py",
   "mimetype": "text/x-python",
   "name": "python",
   "nbconvert_exporter": "python",
   "pygments_lexer": "ipython3",
   "version": "3.11.3"
  }
 },
 "nbformat": 4,
 "nbformat_minor": 0
}
